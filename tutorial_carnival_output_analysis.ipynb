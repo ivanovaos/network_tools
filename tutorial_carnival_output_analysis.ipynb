{
 "cells": [
  {
   "cell_type": "markdown",
   "metadata": {},
   "source": [
    "# CARNIVAL output analysis\n",
    "\n",
    "This is a tutorial to present how the functions/analysis developed in the network_tools repo can be used.\n",
    "The _data_ folder contains the output of CARNIVAL (edges and nodes information) run for two Differential Expression Analysis comparing two groups (C1 and C2) of Hepatoblastoma pacients against Normal Tumor. \n",
    "The t-values from the DEA where use to calculate Dorothea TFs and progeny scores.\n",
    "These were then the input of the CARNIVAL, together with the input network (omnipath_200303_all_geneSymbol_noComplex.csv)"
   ]
  },
  {
   "cell_type": "code",
   "execution_count": null,
   "metadata": {},
   "outputs": [],
   "source": [
    "import os\n",
    "import pandas as pd\n",
    "import rpy2.rinterface\n",
    "%load_ext rpy2.ipython"
   ]
  },
  {
   "cell_type": "code",
   "execution_count": null,
   "metadata": {},
   "outputs": [],
   "source": [
    "# Here we can run python code directly"
   ]
  },
  {
   "cell_type": "code",
   "execution_count": null,
   "metadata": {},
   "outputs": [],
   "source": [
    "%%R\n",
    "\n",
    "# adding this %%R creates the enviroment to run R code.\n",
    "# we can pass information from python to R easily with\n",
    "# check this documentation to know more:\n",
    "# https://www.linkedin.com/pulse/interfacing-r-from-python-3-jupyter-notebook-jared-stufft/"
   ]
  }
 ],
 "metadata": {
  "kernelspec": {
   "display_name": "Python 3",
   "language": "python",
   "name": "python3"
  },
  "language_info": {
   "codemirror_mode": {
    "name": "ipython",
    "version": 3
   },
   "file_extension": ".py",
   "mimetype": "text/x-python",
   "name": "python",
   "nbconvert_exporter": "python",
   "pygments_lexer": "ipython3",
   "version": "3.7.3"
  }
 },
 "nbformat": 4,
 "nbformat_minor": 2
}
