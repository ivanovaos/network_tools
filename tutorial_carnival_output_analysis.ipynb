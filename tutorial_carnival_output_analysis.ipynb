{
 "cells": [
  {
   "cell_type": "markdown",
   "metadata": {},
   "source": [
    "# CARNIVAL output analysis\n",
    "\n",
    "This is a tutorial to present how the functions/analysis developed in the network_tools repo can be used.\n",
    "The _data_ folder contains the output of CARNIVAL (edges and nodes information) run for two Differential Expression Analysis comparing two groups (C1 and C2) of Hepatoblastoma pacients against Normal Tumor. \n",
    "The t-values from the DEA where use to calculate Dorothea TFs and progeny scores.\n",
    "These were then the input of the CARNIVAL, together with the input network (omnipath_200303_all_geneSymbol_noComplex.csv)"
   ]
  },
  {
   "cell_type": "code",
   "execution_count": 1,
   "metadata": {},
   "outputs": [
    {
     "name": "stdout",
     "output_type": "stream",
     "text": [
      "pandas version:  1.0.1\n",
      "networkX version:  2.4\n"
     ]
    },
    {
     "name": "stderr",
     "output_type": "stream",
     "text": [
      "/Users/rosherbal/anaconda3/lib/python3.7/site-packages/rpy2/robjects/pandas2ri.py:14: FutureWarning: pandas.core.index is deprecated and will be removed in a future version.  The public classes are available in the top-level namespace.\n",
      "  from pandas.core.index import Index as PandasIndex\n"
     ]
    }
   ],
   "source": [
    "import os\n",
    "import pandas as pd\n",
    "print (\"pandas version: \", pd.__version__)\n",
    "\n",
    "import networkx as nx\n",
    "print (\"networkX version: \", nx.__version__)\n",
    "\n",
    "import rpy2.rinterface\n",
    "%load_ext rpy2.ipython\n",
    "\n",
    "edgesC1 = pd.read_csv('data/HB_C1vsNT_CARNIVAL_edges.csv', header = 0)\n",
    "edgesC2 = pd.read_csv('data/HB_C2vsNT_CARNIVAL_edges.csv', header = 0)\n",
    "\n",
    "nodesC1 = pd.read_csv('data/HB_C1vsNT_CARNIVAL_nodes.csv', header = 0)\n",
    "nodesC2 = pd.read_csv('data/HB_C2vsNT_CARNIVAL_nodes.csv', header = 0)\n",
    "omnipathNetwork = pd.read_csv('data/omnipath_200303_all_geneSymbol_noComplex.csv', header = 0)"
   ]
  },
  {
   "cell_type": "code",
   "execution_count": null,
   "metadata": {},
   "outputs": [],
   "source": [
    "# Here we can run python code directly"
   ]
  },
  {
   "cell_type": "code",
   "execution_count": null,
   "metadata": {},
   "outputs": [],
   "source": [
    "%%R\n",
    "\n",
    "# adding this %%R creates the enviroment to run R code.\n",
    "# we can pass information from python to R easily with\n",
    "# check this documentation to know more:\n",
    "# https://www.linkedin.com/pulse/interfacing-r-from-python-3-jupyter-notebook-jared-stufft/"
   ]
  },
  {
   "cell_type": "markdown",
   "metadata": {},
   "source": [
    "# Create graph objects and calculate general network measurments\n",
    "### Use of graph_measurments.py\n",
    "\n",
    "We can produce a graph from the interaction files using the _carnival2directGraph_.\n",
    "This function uses networkX module to create a direct graph where the weights are _sign * weight_.\n",
    "If there are duplicated edges, the one with higher weight is keept (turn verbose=True to report this).\n",
    "\n",
    "Having the graph, we can caluculate several general measurments using _graph_measurments_.\n",
    "By default it gives number of nodes and edges, density, average betweenness and degree centrality.\n",
    "Set extended=True to get extra measurments such as diameter, average closeness and eigenvector centrality,\n",
    "and eccentricity.\n",
    "\n",
    "From this representation, and from this representation\n",
    "Finally, if we want to know which are the iniciators and the effectors of the network, \n",
    "we can call _get_initiators_effectors_, which produces 2 sets with the iniciators and the effectors."
   ]
  },
  {
   "cell_type": "code",
   "execution_count": 32,
   "metadata": {},
   "outputs": [
    {
     "name": "stdout",
     "output_type": "stream",
     "text": [
      "set of iniciators:  {'ZNF76', 'PCSK7', 'NSD3', 'JAZF1', 'AKAP8', 'TLX1', 'KAT6A', 'POU2AF1', 'PTPRM', 'SP2', 'IRF2BP1', 'BLVRA', 'SUMO2', 'CDKN2B', 'NANOS1', 'RAP1GDS1', 'NKRF', 'SMARCB1', 'SIKE1', 'ATAD2', 'TMEM173', 'GZMA', 'PCGF2', 'PHLPP2', 'MED14', 'PTMA', 'HSBP1', 'E2F7', 'TRIO', 'E2F6', 'HOXB8', 'ZNF521', 'CSNK2A2', 'CDH15', 'FHL5', 'SMARCAD1'}\n",
      "dictionary of measurments:  {'nNodes': 119, 'nEdges': 113, 'density': 0.008047286711294687, 'avg betweenness centrality': 0.0003073806663038966, 'avg degree centrality': 0.016094573422589374}\n",
      "All paths connecting PCSK7 and HIF1A\n",
      "[['PCSK7', 'PPP2CA', 'AKT3', 'EP300', 'STAT3', 'HIF1A'], ['PCSK7', 'PPP2CA', 'AKT3', 'CREB1', 'CREBBP', 'STAT3', 'HIF1A'], ['PCSK7', 'PPP2CA', 'AKT2', 'EP300', 'STAT3', 'HIF1A'], ['PCSK7', 'PPP2CA', 'AKT2', 'CREB1', 'CREBBP', 'STAT3', 'HIF1A']]\n"
     ]
    }
   ],
   "source": [
    "import graph_measurments as gm\n",
    "\n",
    "#create a directed graph\n",
    "c1G = gm.carnival2directGraph(weigthSample = edgesC1, inverse=False, verbose=True)\n",
    "\n",
    "#calculate iniciators and effectors\n",
    "c1I, c1E = gm.get_initiators_effectors(weigthSample=edgesC1, inverse=False)\n",
    "print(\"set of iniciators\")\n",
    "print(c1I)\n",
    "\n",
    "#calculate measurments\n",
    "measureC1 = gm.get_measurments(DG= c1G, extended=False)\n",
    "print(\"dictionary of measurments\")\n",
    "print(measureC1)\n",
    "\n",
    "# Check all path that connect 2 nodes\n",
    "paths = nx.all_simple_paths(c1G, 'PCSK7', 'HIF1A')\n",
    "print(\"All paths connecting PCSK7 and HIF1A\")\n",
    "print(list(paths))"
   ]
  },
  {
   "cell_type": "markdown",
   "metadata": {},
   "source": [
    "# Create adjacency matrices and compare them pair-wise\n",
    "\n",
    "We can create adjacency matrices based on the inicial network feeded to CARNIVAL (_createAdjacencyMatrix_).\n",
    "This 'framework' is useful to make the matrices comparison simpler.\n",
    "\n",
    "Once the adjacency matrices are produced, they can be compared using _compareAdjacencies_.\n",
    "This can compare two matrices based only on the occurency of the interaction in both matrices (weighted=F),\n",
    "or it can take into account the weights during the comparison (weighted=T).\n",
    "The output of this function is a list of 3 matrices:\n",
    "    - sharedMTX: shared interactions between both matrices\n",
    "    - uMtx1: unique interactions for matrix 1\n",
    "    - uMtx2: unique interactions for matrix 2"
   ]
  },
  {
   "cell_type": "code",
   "execution_count": 3,
   "metadata": {},
   "outputs": [
    {
     "name": "stdout",
     "output_type": "stream",
     "text": [
      "[1] \"Adjacency matrix dimensions\"\n",
      "[[1]]\n",
      "[1] 3075 3136\n",
      "\n",
      "[[2]]\n",
      "[1] 3075 3136\n",
      "\n",
      "[1] \"Type of interactions per matrix (no weight taken into account)\"\n",
      "$sharedMTX\n",
      "\n",
      "  -1    0    1 \n",
      "  34 7928   48 \n",
      "\n",
      "$uMtx1\n",
      "\n",
      "  -1    0    1 \n",
      "  14 7979   17 \n",
      "\n",
      "$uMtx2\n",
      "\n",
      "  -1    0    1 \n",
      "  15 7969   26 \n",
      "\n",
      "[1] \"Type of interactions per matrix (using weights)\"\n",
      "$sharedMTX\n",
      "\n",
      "-100    0  100 \n",
      "  16 7962   32 \n",
      "\n",
      "$uMtx1\n",
      "\n",
      "-100  -71  -70  -54  -50  -46  -30  -29  -23    0   26   30   31   46   47   54 \n",
      "   6    3    1    8    1    9    1    2    1 7945    1    1    1    3    1    3 \n",
      "  69   70   71  100 \n",
      "   1    1    1   20 \n",
      "\n",
      "$uMtx2\n",
      "\n",
      "-100  -68  -60  -56  -52  -50  -48  -44  -25  -16  -14    0   12   16   32   44 \n",
      "   5    1    1    1    3   10    5    1    4    1    1 7935    1    1    3    1 \n",
      "  48   50   51   52   56   68  100 \n",
      "   5    4    1   10    1    3   12 \n",
      "\n"
     ]
    }
   ],
   "source": [
    "%%R -i edgesC1 -i edgesC2 -i omnipathNetwork -o sharedMTX -o uMtx1 -o uMtx2\n",
    "\n",
    "# load the functions\n",
    "source('compare_topology_adjacency.r')\n",
    "\n",
    "# create adjacency matrices with sign (always; - inhibition, + activation) and weights (optional)\n",
    "adMTX = lapply(list(edgesC1,edgesC2), createAdjacencyMatrix, scafoldNET=omnipathNetwork, weighted=T)\n",
    "print(\"Adjacency matrix dimensions\")\n",
    "print(lapply(adMTX, dim))\n",
    "\n",
    "# compare adjacency matrices based only in the existance of an interaction (weighted=F)\n",
    "matComparison = compareAdjacencies(adjMAT1=adMTX[[1]], adjMAT2=adMTX[[2]], weighted=F)\n",
    "print(\"Type of interactions per matrix (no weight taken into account)\")\n",
    "print(lapply(matComparison, table))\n",
    "\n",
    "# compare adjacency matrices based on the interaction and its weight (weighted=T)\n",
    "matComparisonWeight = compareAdjacencies(adjMAT1=adMTX[[1]], adjMAT2=adMTX[[2]], weighted=T)\n",
    "print(\"Type of interactions per matrix (using weights)\")\n",
    "print(lapply(matComparisonWeight, table))\n",
    " \n",
    "# Return comparison to python. They will be kept in R and can be used any time\n",
    "sharedMTX = data.frame(matComparison[[1]], stringsAsFactors=F)\n",
    "uMtx1 = data.frame(matComparison[[2]], stringsAsFactors=F)\n",
    "uMtx2 = data.frame(matComparison[[3]], stringsAsFactors=F)"
   ]
  },
  {
   "cell_type": "markdown",
   "metadata": {},
   "source": [
    "The objects _sharedMTX_, _uMtx1_, and _uMtx2_ are available now in both spaces: python and R.\n",
    "Using _adjacency2DG_, we can transform the adjacency matrices in networkX direct graphs,\n",
    "and then use the functions of _graph_measurments_"
   ]
  },
  {
   "cell_type": "code",
   "execution_count": 33,
   "metadata": {},
   "outputs": [
    {
     "data": {
      "text/plain": [
       "{'nNodes': 100,\n",
       " 'nEdges': 82,\n",
       " 'density': 0.008282828282828282,\n",
       " 'avg betweenness centrality': 0.0001082251082251082,\n",
       " 'avg degree centrality': 0.01656565656565657}"
      ]
     },
     "execution_count": 33,
     "metadata": {},
     "output_type": "execute_result"
    }
   ],
   "source": [
    "sDG = gm.adjacency2DG(adjaMTX = sharedMTX)\n",
    "\n",
    "gm.get_measurments(DG= sDG, extended=False)"
   ]
  }
 ],
 "metadata": {
  "kernelspec": {
   "display_name": "Python 3",
   "language": "python",
   "name": "python3"
  },
  "language_info": {
   "codemirror_mode": {
    "name": "ipython",
    "version": 3
   },
   "file_extension": ".py",
   "mimetype": "text/x-python",
   "name": "python",
   "nbconvert_exporter": "python",
   "pygments_lexer": "ipython3",
   "version": "3.7.3"
  }
 },
 "nbformat": 4,
 "nbformat_minor": 2
}
