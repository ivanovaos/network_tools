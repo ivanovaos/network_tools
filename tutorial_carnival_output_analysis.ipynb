{
 "cells": [
  {
   "cell_type": "markdown",
   "metadata": {},
   "source": [
    "# CARNIVAL output analysis\n",
    "\n",
    "This is a tutorial to present how the functions/analysis developed in the network_tools repo can be used.\n",
    "The _data_ folder contains the output of CARNIVAL (edges and nodes information) run for two Differential Expression Analysis comparing two groups (C1 and C2) of Hepatoblastoma pacients against Normal Tumor. \n",
    "The t-values from the DEA where use to calculate Dorothea TFs and progeny scores.\n",
    "These were then the input of the CARNIVAL, together with the input network (omnipath_200303_all_geneSymbol_noComplex.csv)"
   ]
  },
  {
   "cell_type": "code",
   "execution_count": 1,
   "metadata": {},
   "outputs": [
    {
     "name": "stderr",
     "output_type": "stream",
     "text": [
      "/Users/rosherbal/anaconda3/lib/python3.7/site-packages/rpy2/robjects/pandas2ri.py:14: FutureWarning: pandas.core.index is deprecated and will be removed in a future version.  The public classes are available in the top-level namespace.\n",
      "  from pandas.core.index import Index as PandasIndex\n"
     ]
    }
   ],
   "source": [
    "import os\n",
    "import pandas as pd\n",
    "import rpy2.rinterface\n",
    "%load_ext rpy2.ipython\n",
    "\n",
    "edgesC1 = pd.read_csv('data/HB_C1vsNT_CARNIVAL_edges.csv', header = 0)\n",
    "edgesC2 = pd.read_csv('data/HB_C2vsNT_CARNIVAL_edges.csv', header = 0)\n",
    "\n",
    "nodesC1 = pd.read_csv('data/HB_C1vsNT_CARNIVAL_nodes.csv', header = 0)\n",
    "nodesC2 = pd.read_csv('data/HB_C2vsNT_CARNIVAL_nodes.csv', header = 0)\n",
    "omnipathNetwork = pd.read_csv('data/omnipath_200303_all_geneSymbol_noComplex.csv', header = 0)"
   ]
  },
  {
   "cell_type": "code",
   "execution_count": null,
   "metadata": {},
   "outputs": [],
   "source": [
    "# Here we can run python code directly"
   ]
  },
  {
   "cell_type": "code",
   "execution_count": null,
   "metadata": {},
   "outputs": [],
   "source": [
    "%%R\n",
    "\n",
    "# adding this %%R creates the enviroment to run R code.\n",
    "# we can pass information from python to R easily with\n",
    "# check this documentation to know more:\n",
    "# https://www.linkedin.com/pulse/interfacing-r-from-python-3-jupyter-notebook-jared-stufft/"
   ]
  },
  {
   "cell_type": "markdown",
   "metadata": {},
   "source": [
    "# Create adjacency matrices and compare them pair-wise\n",
    "\n",
    "We can create adjacency matrices based on the inicial network feeded to CARNIVAL (_createAdjacencyMatrix_).\n",
    "This 'framework' is useful to make the matrices comparison simpler.\n",
    "\n",
    "Once the adjacency matrices are produced, they can be compared using _compareAdjacencies_.\n",
    "This can compare two matrices based only on the occurency of the interaction in both matrices (weighted=F),\n",
    "or it can take into account the weights during the comparison (weighted=T).\n",
    "The output of this function is a list of 3 matrices:\n",
    "    - sharedMTX: shared interactions between both matrices\n",
    "    - uMtx1: unique interactions for matrix 1\n",
    "    - uMtx2: unique interactions for matrix 2"
   ]
  },
  {
   "cell_type": "code",
   "execution_count": 2,
   "metadata": {},
   "outputs": [
    {
     "name": "stdout",
     "output_type": "stream",
     "text": [
      "[1] \"Adjacency matrix dimensions\"\n",
      "[[1]]\n",
      "[1] 3075 3136\n",
      "\n",
      "[[2]]\n",
      "[1] 3075 3136\n",
      "\n",
      "[1] \"Type of interactions per matrix (no weight taken into account)\"\n",
      "$sharedMTX\n",
      "\n",
      "  -1    0    1 \n",
      "  34 7928   48 \n",
      "\n",
      "$uMtx1\n",
      "\n",
      "  -1    0    1 \n",
      "  14 7979   17 \n",
      "\n",
      "$uMtx2\n",
      "\n",
      "  -1    0    1 \n",
      "  15 7969   26 \n",
      "\n",
      "[1] \"Type of interactions per matrix (using weights)\"\n",
      "$sharedMTX\n",
      "\n",
      "-100    0  100 \n",
      "  16 7962   32 \n",
      "\n",
      "$uMtx1\n",
      "\n",
      "-100  -71  -70  -54  -50  -46  -30  -29  -23    0   26   30   31   46   47   54 \n",
      "   6    3    1    8    1    9    1    2    1 7945    1    1    1    3    1    3 \n",
      "  69   70   71  100 \n",
      "   1    1    1   20 \n",
      "\n",
      "$uMtx2\n",
      "\n",
      "-100  -68  -60  -56  -52  -50  -48  -44  -25  -16  -14    0   12   16   32   44 \n",
      "   5    1    1    1    3   10    5    1    4    1    1 7935    1    1    3    1 \n",
      "  48   50   51   52   56   68  100 \n",
      "   5    4    1   10    1    3   12 \n",
      "\n"
     ]
    }
   ],
   "source": [
    "%%R -i edgesC1 -i edgesC2 -i omnipathNetwork\n",
    "\n",
    "# load the functions\n",
    "source('compare_topology_adjacency.r')\n",
    "\n",
    "# create adjacency matrices with sign (always; - inhibition, + activation) and weights (optional)\n",
    "adMTX = lapply(list(edgesC1,edgesC2), createAdjacencyMatrix, scafoldNET=omnipathNetwork, weighted=T)\n",
    "print(\"Adjacency matrix dimensions\")\n",
    "print(lapply(adMTX, dim))\n",
    "\n",
    "# compare adjacency matrices based only in the existance of an interaction (weighted=F)\n",
    "matComparison = compareAdjacencies(adjMAT1=adMTX[[1]], adjMAT2=adMTX[[2]], weighted=F)\n",
    "print(\"Type of interactions per matrix (no weight taken into account)\")\n",
    "print(lapply(matComparison, table))\n",
    "\n",
    "# compare adjacency matrices based on the interaction and its weight (weighted=T)\n",
    "matComparisonWeight = compareAdjacencies(adjMAT1=adMTX[[1]], adjMAT2=adMTX[[2]], weighted=T)\n",
    "print(\"Type of interactions per matrix (using weights)\")\n",
    "print(lapply(matComparisonWeight, table))\n",
    " "
   ]
  },
  {
   "cell_type": "code",
   "execution_count": null,
   "metadata": {},
   "outputs": [],
   "source": []
  },
  {
   "cell_type": "code",
   "execution_count": null,
   "metadata": {},
   "outputs": [],
   "source": []
  }
 ],
 "metadata": {
  "kernelspec": {
   "display_name": "Python 3",
   "language": "python",
   "name": "python3"
  },
  "language_info": {
   "codemirror_mode": {
    "name": "ipython",
    "version": 3
   },
   "file_extension": ".py",
   "mimetype": "text/x-python",
   "name": "python",
   "nbconvert_exporter": "python",
   "pygments_lexer": "ipython3",
   "version": "3.7.3"
  }
 },
 "nbformat": 4,
 "nbformat_minor": 2
}
